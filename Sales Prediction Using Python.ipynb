{
 "cells": [
  {
   "cell_type": "markdown",
   "id": "ea191285",
   "metadata": {},
   "source": [
    "Use the advertising dataset given in ISLR and analyse the relationship between 'TV advertising' and 'sales' using a simple linear regression model.\n",
    "\n",
    "In this notebook, we'll build a linear regression model to predict Sales using an appropriate predictor variable."
   ]
  },
  {
   "cell_type": "markdown",
   "id": "549ad1b8",
   "metadata": {},
   "source": [
    "The goal of this project is to develop a machine learning model using Python to predict future sales based on historical data and relevant features. \n",
    "By leveraging machine learning techniques, we aim to analyze and interpret data to provide actionable insights for businesses."
   ]
  },
  {
   "cell_type": "code",
   "execution_count": 52,
   "id": "fc580bf7",
   "metadata": {},
   "outputs": [],
   "source": [
    "import pandas as pd\n",
    "pd.set_option('display.max_columns', None) \n",
    "pd.set_option('display.max_rows', None)\n",
    "import numpy as np\n",
    "import seaborn as sns"
   ]
  },
  {
   "cell_type": "code",
   "execution_count": 53,
   "id": "06cdaff1",
   "metadata": {},
   "outputs": [],
   "source": [
    "ad = pd.read_csv(r\"C:\\Users\\yoges\\Downloads\\advertising.csv\")"
   ]
  },
  {
   "cell_type": "code",
   "execution_count": 54,
   "id": "255bea58",
   "metadata": {},
   "outputs": [
    {
     "data": {
      "text/html": [
       "<div>\n",
       "<style scoped>\n",
       "    .dataframe tbody tr th:only-of-type {\n",
       "        vertical-align: middle;\n",
       "    }\n",
       "\n",
       "    .dataframe tbody tr th {\n",
       "        vertical-align: top;\n",
       "    }\n",
       "\n",
       "    .dataframe thead th {\n",
       "        text-align: right;\n",
       "    }\n",
       "</style>\n",
       "<table border=\"1\" class=\"dataframe\">\n",
       "  <thead>\n",
       "    <tr style=\"text-align: right;\">\n",
       "      <th></th>\n",
       "      <th>TV</th>\n",
       "      <th>Radio</th>\n",
       "      <th>Newspaper</th>\n",
       "      <th>Sales</th>\n",
       "    </tr>\n",
       "  </thead>\n",
       "  <tbody>\n",
       "    <tr>\n",
       "      <th>0</th>\n",
       "      <td>230.1</td>\n",
       "      <td>37.8</td>\n",
       "      <td>69.2</td>\n",
       "      <td>22.1</td>\n",
       "    </tr>\n",
       "    <tr>\n",
       "      <th>1</th>\n",
       "      <td>44.5</td>\n",
       "      <td>39.3</td>\n",
       "      <td>45.1</td>\n",
       "      <td>10.4</td>\n",
       "    </tr>\n",
       "    <tr>\n",
       "      <th>2</th>\n",
       "      <td>17.2</td>\n",
       "      <td>45.9</td>\n",
       "      <td>69.3</td>\n",
       "      <td>12.0</td>\n",
       "    </tr>\n",
       "    <tr>\n",
       "      <th>3</th>\n",
       "      <td>151.5</td>\n",
       "      <td>41.3</td>\n",
       "      <td>58.5</td>\n",
       "      <td>16.5</td>\n",
       "    </tr>\n",
       "    <tr>\n",
       "      <th>4</th>\n",
       "      <td>180.8</td>\n",
       "      <td>10.8</td>\n",
       "      <td>58.4</td>\n",
       "      <td>17.9</td>\n",
       "    </tr>\n",
       "    <tr>\n",
       "      <th>5</th>\n",
       "      <td>8.7</td>\n",
       "      <td>48.9</td>\n",
       "      <td>75.0</td>\n",
       "      <td>7.2</td>\n",
       "    </tr>\n",
       "    <tr>\n",
       "      <th>6</th>\n",
       "      <td>57.5</td>\n",
       "      <td>32.8</td>\n",
       "      <td>23.5</td>\n",
       "      <td>11.8</td>\n",
       "    </tr>\n",
       "    <tr>\n",
       "      <th>7</th>\n",
       "      <td>120.2</td>\n",
       "      <td>19.6</td>\n",
       "      <td>11.6</td>\n",
       "      <td>13.2</td>\n",
       "    </tr>\n",
       "    <tr>\n",
       "      <th>8</th>\n",
       "      <td>8.6</td>\n",
       "      <td>2.1</td>\n",
       "      <td>1.0</td>\n",
       "      <td>4.8</td>\n",
       "    </tr>\n",
       "    <tr>\n",
       "      <th>9</th>\n",
       "      <td>199.8</td>\n",
       "      <td>2.6</td>\n",
       "      <td>21.2</td>\n",
       "      <td>15.6</td>\n",
       "    </tr>\n",
       "  </tbody>\n",
       "</table>\n",
       "</div>"
      ],
      "text/plain": [
       "      TV  Radio  Newspaper  Sales\n",
       "0  230.1   37.8       69.2   22.1\n",
       "1   44.5   39.3       45.1   10.4\n",
       "2   17.2   45.9       69.3   12.0\n",
       "3  151.5   41.3       58.5   16.5\n",
       "4  180.8   10.8       58.4   17.9\n",
       "5    8.7   48.9       75.0    7.2\n",
       "6   57.5   32.8       23.5   11.8\n",
       "7  120.2   19.6       11.6   13.2\n",
       "8    8.6    2.1        1.0    4.8\n",
       "9  199.8    2.6       21.2   15.6"
      ]
     },
     "execution_count": 54,
     "metadata": {},
     "output_type": "execute_result"
    }
   ],
   "source": [
    "ad.head(10) # Target Variable is Sales. "
   ]
  },
  {
   "cell_type": "code",
   "execution_count": 55,
   "id": "5eb29cbb",
   "metadata": {},
   "outputs": [
    {
     "data": {
      "text/plain": [
       "(200, 4)"
      ]
     },
     "execution_count": 55,
     "metadata": {},
     "output_type": "execute_result"
    }
   ],
   "source": [
    "ad.shape"
   ]
  },
  {
   "cell_type": "code",
   "execution_count": 56,
   "id": "b6553308",
   "metadata": {},
   "outputs": [
    {
     "data": {
      "text/plain": [
       "TV           0\n",
       "Radio        0\n",
       "Newspaper    0\n",
       "Sales        0\n",
       "dtype: int64"
      ]
     },
     "execution_count": 56,
     "metadata": {},
     "output_type": "execute_result"
    }
   ],
   "source": [
    "ad.isnull().sum()"
   ]
  },
  {
   "cell_type": "code",
   "execution_count": 57,
   "id": "0d5f0e19",
   "metadata": {},
   "outputs": [
    {
     "name": "stdout",
     "output_type": "stream",
     "text": [
      "<class 'pandas.core.frame.DataFrame'>\n",
      "RangeIndex: 200 entries, 0 to 199\n",
      "Data columns (total 4 columns):\n",
      " #   Column     Non-Null Count  Dtype  \n",
      "---  ------     --------------  -----  \n",
      " 0   TV         200 non-null    float64\n",
      " 1   Radio      200 non-null    float64\n",
      " 2   Newspaper  200 non-null    float64\n",
      " 3   Sales      200 non-null    float64\n",
      "dtypes: float64(4)\n",
      "memory usage: 6.4 KB\n"
     ]
    }
   ],
   "source": [
    "ad.info()"
   ]
  },
  {
   "cell_type": "code",
   "execution_count": 61,
   "id": "49840f18",
   "metadata": {},
   "outputs": [],
   "source": [
    "# Outlier Analysis"
   ]
  },
  {
   "cell_type": "code",
   "execution_count": 58,
   "id": "65a8861c",
   "metadata": {},
   "outputs": [
    {
     "data": {
      "image/png": "[encoded data removed]",
      "text/plain": [
       "<Figure size 500x500 with 3 Axes>"
      ]
     },
     "metadata": {},
     "output_type": "display_data"
    }
   ],
   "source": [
    "fig, axs = plt.subplots(3, figsize = (5,5))\n",
    "plt1 = sns.boxplot(ad['TV'], ax = axs[0])\n",
    "plt2 = sns.boxplot(ad['Newspaper'], ax = axs[1])\n",
    "plt3 = sns.boxplot(ad['Radio'], ax = axs[2])\n",
    "plt.tight_layout()"
   ]
  },
  {
   "cell_type": "markdown",
   "id": "fc1119c4",
   "metadata": {},
   "source": [
    "# Exploratory Data Analysis"
   ]
  },
  {
   "cell_type": "code",
   "execution_count": 59,
   "id": "01657d1b",
   "metadata": {},
   "outputs": [
    {
     "data": {
      "image/png": "[encoded data removed]",
      "text/plain": [
       "<Figure size 640x480 with 1 Axes>"
      ]
     },
     "metadata": {},
     "output_type": "display_data"
    }
   ],
   "source": [
    "sns.boxplot(ad['Sales'])\n",
    "plt.show()"
   ]
  },
  {
   "cell_type": "code",
   "execution_count": 60,
   "id": "a14d1160",
   "metadata": {},
   "outputs": [
    {
     "name": "stderr",
     "output_type": "stream",
     "text": [
      "C:\\Users\\yoges\\anaconda3\\Lib\\site-packages\\seaborn\\axisgrid.py:118: UserWarning: The figure layout has changed to tight\n",
      "  self._figure.tight_layout(*args, **kwargs)\n"
     ]
    },
    {
     "data": {
      "image/png": "[encoded data removed]",
      "text/plain": [
       "<Figure size 1200x400 with 3 Axes>"
      ]
     },
     "metadata": {},
     "output_type": "display_data"
    }
   ],
   "source": [
    "sns.pairplot(ad, x_vars=['TV', 'Newspaper', 'Radio'], y_vars='Sales', height=4, aspect=1, kind='scatter')\n",
    "plt.show()"
   ]
  },
  {
   "cell_type": "markdown",
   "id": "8858e42e",
   "metadata": {},
   "source": [
    "# Model Building"
   ]
  },
  {
   "cell_type": "markdown",
   "id": "1a6b1254",
   "metadata": {},
   "source": [
    "***Sampling (train Test data)***"
   ]
  },
  {
   "cell_type": "code",
   "execution_count": 9,
   "id": "cced5451",
   "metadata": {},
   "outputs": [],
   "source": [
    "from sklearn.model_selection import train_test_split"
   ]
  },
  {
   "cell_type": "code",
   "execution_count": 10,
   "id": "bcbe8e19",
   "metadata": {},
   "outputs": [],
   "source": [
    "ad_train, ad_test = train_test_split(ad , test_size=.2)"
   ]
  },
  {
   "cell_type": "code",
   "execution_count": 11,
   "id": "0f48704f",
   "metadata": {},
   "outputs": [],
   "source": [
    "ad_train_x = ad_train.iloc[: ,0:-1]\n",
    "ad_train_y = ad_train.iloc[: , -1]"
   ]
  },
  {
   "cell_type": "code",
   "execution_count": 13,
   "id": "71461a30",
   "metadata": {},
   "outputs": [],
   "source": [
    "ad_test_x = ad_test.iloc[: ,0:-1]\n",
    "ad_test_y = ad_test.iloc[: , -1]"
   ]
  },
  {
   "cell_type": "code",
   "execution_count": 21,
   "id": "5c909588",
   "metadata": {},
   "outputs": [
    {
     "data": {
      "text/html": [
       "<div>\n",
       "<style scoped>\n",
       "    .dataframe tbody tr th:only-of-type {\n",
       "        vertical-align: middle;\n",
       "    }\n",
       "\n",
       "    .dataframe tbody tr th {\n",
       "        vertical-align: top;\n",
       "    }\n",
       "\n",
       "    .dataframe thead th {\n",
       "        text-align: right;\n",
       "    }\n",
       "</style>\n",
       "<table border=\"1\" class=\"dataframe\">\n",
       "  <thead>\n",
       "    <tr style=\"text-align: right;\">\n",
       "      <th></th>\n",
       "      <th>TV</th>\n",
       "      <th>Radio</th>\n",
       "      <th>Newspaper</th>\n",
       "    </tr>\n",
       "  </thead>\n",
       "  <tbody>\n",
       "    <tr>\n",
       "      <th>172</th>\n",
       "      <td>19.6</td>\n",
       "      <td>20.1</td>\n",
       "      <td>17.0</td>\n",
       "    </tr>\n",
       "    <tr>\n",
       "      <th>92</th>\n",
       "      <td>217.7</td>\n",
       "      <td>33.5</td>\n",
       "      <td>59.0</td>\n",
       "    </tr>\n",
       "    <tr>\n",
       "      <th>146</th>\n",
       "      <td>240.1</td>\n",
       "      <td>7.3</td>\n",
       "      <td>8.7</td>\n",
       "    </tr>\n",
       "    <tr>\n",
       "      <th>80</th>\n",
       "      <td>76.4</td>\n",
       "      <td>26.7</td>\n",
       "      <td>22.3</td>\n",
       "    </tr>\n",
       "    <tr>\n",
       "      <th>157</th>\n",
       "      <td>149.8</td>\n",
       "      <td>1.3</td>\n",
       "      <td>24.3</td>\n",
       "    </tr>\n",
       "  </tbody>\n",
       "</table>\n",
       "</div>"
      ],
      "text/plain": [
       "        TV  Radio  Newspaper\n",
       "172   19.6   20.1       17.0\n",
       "92   217.7   33.5       59.0\n",
       "146  240.1    7.3        8.7\n",
       "80    76.4   26.7       22.3\n",
       "157  149.8    1.3       24.3"
      ]
     },
     "execution_count": 21,
     "metadata": {},
     "output_type": "execute_result"
    }
   ],
   "source": [
    "ad_train_x.head()"
   ]
  },
  {
   "cell_type": "code",
   "execution_count": 22,
   "id": "8d19b737",
   "metadata": {},
   "outputs": [
    {
     "data": {
      "text/plain": [
       "102    19.8\n",
       "113    20.9\n",
       "37     14.7\n",
       "58     23.8\n",
       "13     13.7\n",
       "Name: Sales, dtype: float64"
      ]
     },
     "execution_count": 22,
     "metadata": {},
     "output_type": "execute_result"
    }
   ],
   "source": [
    "ad_test_y.head()"
   ]
  },
  {
   "cell_type": "code",
   "execution_count": 25,
   "id": "d2f178dc",
   "metadata": {},
   "outputs": [],
   "source": [
    "from sklearn.linear_model import LinearRegression"
   ]
  },
  {
   "cell_type": "code",
   "execution_count": 26,
   "id": "d016c8ce",
   "metadata": {},
   "outputs": [],
   "source": [
    "linereg = LinearRegression()"
   ]
  },
  {
   "cell_type": "code",
   "execution_count": 27,
   "id": "b2ac036b",
   "metadata": {},
   "outputs": [
    {
     "data": {
      "text/html": [
       "<style>#sk-container-id-1 {color: black;}#sk-container-id-1 pre{padding: 0;}#sk-container-id-1 div.sk-toggleable {background-color: white;}#sk-container-id-1 label.sk-toggleable__label {cursor: pointer;display: block;width: 100%;margin-bottom: 0;padding: 0.3em;box-sizing: border-box;text-align: center;}#sk-container-id-1 label.sk-toggleable__label-arrow:before {content: \"▸\";float: left;margin-right: 0.25em;color: #696969;}#sk-container-id-1 label.sk-toggleable__label-arrow:hover:before {color: black;}#sk-container-id-1 div.sk-estimator:hover label.sk-toggleable__label-arrow:before {color: black;}#sk-container-id-1 div.sk-toggleable__content {max-height: 0;max-width: 0;overflow: hidden;text-align: left;background-color: #f0f8ff;}#sk-container-id-1 div.sk-toggleable__content pre {margin: 0.2em;color: black;border-radius: 0.25em;background-color: #f0f8ff;}#sk-container-id-1 input.sk-toggleable__control:checked~div.sk-toggleable__content {max-height: 200px;max-width: 100%;overflow: auto;}#sk-container-id-1 input.sk-toggleable__control:checked~label.sk-toggleable__label-arrow:before {content: \"▾\";}#sk-container-id-1 div.sk-estimator input.sk-toggleable__control:checked~label.sk-toggleable__label {background-color: #d4ebff;}#sk-container-id-1 div.sk-label input.sk-toggleable__control:checked~label.sk-toggleable__label {background-color: #d4ebff;}#sk-container-id-1 input.sk-hidden--visually {border: 0;clip: rect(1px 1px 1px 1px);clip: rect(1px, 1px, 1px, 1px);height: 1px;margin: -1px;overflow: hidden;padding: 0;position: absolute;width: 1px;}#sk-container-id-1 div.sk-estimator {font-family: monospace;background-color: #f0f8ff;border: 1px dotted black;border-radius: 0.25em;box-sizing: border-box;margin-bottom: 0.5em;}#sk-container-id-1 div.sk-estimator:hover {background-color: #d4ebff;}#sk-container-id-1 div.sk-parallel-item::after {content: \"\";width: 100%;border-bottom: 1px solid gray;flex-grow: 1;}#sk-container-id-1 div.sk-label:hover label.sk-toggleable__label {background-color: #d4ebff;}#sk-container-id-1 div.sk-serial::before {content: \"\";position: absolute;border-left: 1px solid gray;box-sizing: border-box;top: 0;bottom: 0;left: 50%;z-index: 0;}#sk-container-id-1 div.sk-serial {display: flex;flex-direction: column;align-items: center;background-color: white;padding-right: 0.2em;padding-left: 0.2em;position: relative;}#sk-container-id-1 div.sk-item {position: relative;z-index: 1;}#sk-container-id-1 div.sk-parallel {display: flex;align-items: stretch;justify-content: center;background-color: white;position: relative;}#sk-container-id-1 div.sk-item::before, #sk-container-id-1 div.sk-parallel-item::before {content: \"\";position: absolute;border-left: 1px solid gray;box-sizing: border-box;top: 0;bottom: 0;left: 50%;z-index: -1;}#sk-container-id-1 div.sk-parallel-item {display: flex;flex-direction: column;z-index: 1;position: relative;background-color: white;}#sk-container-id-1 div.sk-parallel-item:first-child::after {align-self: flex-end;width: 50%;}#sk-container-id-1 div.sk-parallel-item:last-child::after {align-self: flex-start;width: 50%;}#sk-container-id-1 div.sk-parallel-item:only-child::after {width: 0;}#sk-container-id-1 div.sk-dashed-wrapped {border: 1px dashed gray;margin: 0 0.4em 0.5em 0.4em;box-sizing: border-box;padding-bottom: 0.4em;background-color: white;}#sk-container-id-1 div.sk-label label {font-family: monospace;font-weight: bold;display: inline-block;line-height: 1.2em;}#sk-container-id-1 div.sk-label-container {text-align: center;}#sk-container-id-1 div.sk-container {/* jupyter's `normalize.less` sets `[hidden] { display: none; }` but bootstrap.min.css set `[hidden] { display: none !important; }` so we also need the `!important` here to be able to override the default hidden behavior on the sphinx rendered scikit-learn.org. See: https://github.com/scikit-learn/scikit-learn/issues/21755 */display: inline-block !important;position: relative;}#sk-container-id-1 div.sk-text-repr-fallback {display: none;}</style><div id=\"sk-container-id-1\" class=\"sk-top-container\"><div class=\"sk-text-repr-fallback\"><pre>LinearRegression()</pre><b>In a Jupyter environment, please rerun this cell to show the HTML representation or trust the notebook. <br />On GitHub, the HTML representation is unable to render, please try loading this page with nbviewer.org.</b></div><div class=\"sk-container\" hidden><div class=\"sk-item\"><div class=\"sk-estimator sk-toggleable\"><input class=\"sk-toggleable__control sk-hidden--visually\" id=\"sk-estimator-id-1\" type=\"checkbox\" checked><label for=\"sk-estimator-id-1\" class=\"sk-toggleable__label sk-toggleable__label-arrow\">LinearRegression</label><div class=\"sk-toggleable__content\"><pre>LinearRegression()</pre></div></div></div></div></div>"
      ],
      "text/plain": [
       "LinearRegression()"
      ]
     },
     "execution_count": 27,
     "metadata": {},
     "output_type": "execute_result"
    }
   ],
   "source": [
    "linereg.fit(ad_train_x , ad_train_y)"
   ]
  },
  {
   "cell_type": "code",
   "execution_count": 29,
   "id": "cb3d4196",
   "metadata": {},
   "outputs": [
    {
     "data": {
      "text/plain": [
       "91.92000171146726"
      ]
     },
     "execution_count": 29,
     "metadata": {},
     "output_type": "execute_result"
    }
   ],
   "source": [
    "Rsquare = linereg.score(ad_train_x , ad_train_y) * 100\n",
    "Rsquare"
   ]
  },
  {
   "cell_type": "code",
   "execution_count": 30,
   "id": "e169730c",
   "metadata": {},
   "outputs": [],
   "source": [
    "# Adj_Rsquare = 1-[(1-Rsquare) * (N-1) / N-k-1]\n",
    "\n",
    "# we have already know Rsquare\n",
    "# we have to define'N' & 'K' overhere\n",
    "# K = no.of Columns\n",
    "# N = no.of rows"
   ]
  },
  {
   "cell_type": "code",
   "execution_count": 32,
   "id": "8684a918",
   "metadata": {},
   "outputs": [],
   "source": [
    "N = ad_train_x.shape[0] # Rows\n",
    "K = ad_train_x.shape[1] # Columns"
   ]
  },
  {
   "cell_type": "code",
   "execution_count": 33,
   "id": "1847872c",
   "metadata": {},
   "outputs": [
    {
     "data": {
      "text/plain": [
       "93.66846328284163"
      ]
     },
     "execution_count": 33,
     "metadata": {},
     "output_type": "execute_result"
    }
   ],
   "source": [
    "Adj_Rsquare = 1-(1-Rsquare) * (N-1) / (N-K-1)\n",
    "Adj_Rsquare"
   ]
  },
  {
   "cell_type": "code",
   "execution_count": 34,
   "id": "2aa72fc2",
   "metadata": {},
   "outputs": [
    {
     "data": {
      "text/plain": [
       "Index(['TV', 'Radio', 'Newspaper'], dtype='object')"
      ]
     },
     "execution_count": 34,
     "metadata": {},
     "output_type": "execute_result"
    }
   ],
   "source": [
    "ad_train_x.columns"
   ]
  },
  {
   "cell_type": "code",
   "execution_count": 35,
   "id": "093af990",
   "metadata": {},
   "outputs": [
    {
     "data": {
      "text/plain": [
       "array([0.05404336, 0.10554693, 0.00173843])"
      ]
     },
     "execution_count": 35,
     "metadata": {},
     "output_type": "execute_result"
    }
   ],
   "source": [
    "linereg.coef_ "
   ]
  },
  {
   "cell_type": "code",
   "execution_count": 36,
   "id": "4ea96980",
   "metadata": {},
   "outputs": [
    {
     "data": {
      "text/plain": [
       "4.5969732392794445"
      ]
     },
     "execution_count": 36,
     "metadata": {},
     "output_type": "execute_result"
    }
   ],
   "source": [
    "linereg.intercept_ "
   ]
  },
  {
   "cell_type": "markdown",
   "id": "ad4337ee",
   "metadata": {},
   "source": [
    "# Prediction"
   ]
  },
  {
   "cell_type": "code",
   "execution_count": 37,
   "id": "6f2ffcbc",
   "metadata": {},
   "outputs": [
    {
     "data": {
      "text/plain": [
       "array([20.84314928, 18.11732961, 13.92747692, 21.28998025, 10.68087427,\n",
       "       12.24621444, 24.62218644, 17.77641965, 24.7954911 ,  8.82958643,\n",
       "       10.11298101, 13.82273625, 14.97464741,  9.92955293, 17.09442884,\n",
       "       12.49178252, 23.65279395, 12.10747559, 17.15664221,  6.9253812 ,\n",
       "       19.83472983,  9.30911617, 16.9898717 , 12.09536356, 15.60944396,\n",
       "       17.9493847 , 12.40391281, 21.06234999, 14.01303797, 21.97433406,\n",
       "       18.93295881, 18.06326518, 10.21911905,  9.8275844 , 20.7325077 ,\n",
       "       11.71887216, 16.84949997, 19.22605626, 15.88322218, 13.34901449])"
      ]
     },
     "execution_count": 37,
     "metadata": {},
     "output_type": "execute_result"
    }
   ],
   "source": [
    "pred_train = linereg.predict(ad_train_x)\n",
    "pred_test = linereg.predict(ad_test_x)\n",
    "pred_test "
   ]
  },
  {
   "cell_type": "code",
   "execution_count": 38,
   "id": "fa9557ed",
   "metadata": {},
   "outputs": [],
   "source": [
    "err_test = ad_test_y - pred_test"
   ]
  },
  {
   "cell_type": "code",
   "execution_count": 39,
   "id": "31790234",
   "metadata": {},
   "outputs": [
    {
     "data": {
      "text/plain": [
       "102   -1.043149\n",
       "113    2.782670\n",
       "37     0.772523\n",
       "58     2.510020\n",
       "13     3.019126\n",
       "73    -1.246214\n",
       "101   -0.822186\n",
       "165   -0.876420\n",
       "175    2.204509\n",
       "130   -7.229586\n",
       "136   -0.612981\n",
       "114    0.777264\n",
       "87     1.025353\n",
       "34     1.970447\n",
       "85     3.105571\n",
       "164   -0.591783\n",
       "36     1.747206\n",
       "151   -0.507476\n",
       "100   -0.456642\n",
       "189   -0.225381\n",
       "178   -3.034730\n",
       "65     1.990884\n",
       "154    3.610128\n",
       "71     0.304636\n",
       "4      2.290556\n",
       "40    -1.349385\n",
       "186   -2.103913\n",
       "33    -3.662350\n",
       "57    -0.813038\n",
       "47     1.225666\n",
       "141    0.267041\n",
       "199    0.336735\n",
       "196    3.780881\n",
       "191    2.072416\n",
       "84     0.967492\n",
       "79    -0.718872\n",
       "95     0.050500\n",
       "139    1.473944\n",
       "160    0.516778\n",
       "180    2.150986\n",
       "Name: Sales, dtype: float64"
      ]
     },
     "execution_count": 39,
     "metadata": {},
     "output_type": "execute_result"
    }
   ],
   "source": [
    "err_test"
   ]
  },
  {
   "cell_type": "code",
   "execution_count": 40,
   "id": "552d5c9f",
   "metadata": {},
   "outputs": [
    {
     "data": {
      "text/plain": [
       "4.627777978309806"
      ]
     },
     "execution_count": 40,
     "metadata": {},
     "output_type": "execute_result"
    }
   ],
   "source": [
    "mse = np.mean(np.square(err_test))\n",
    "mse"
   ]
  },
  {
   "cell_type": "code",
   "execution_count": 41,
   "id": "a0d4e815",
   "metadata": {},
   "outputs": [
    {
     "data": {
      "text/plain": [
       "2.1512270866437615"
      ]
     },
     "execution_count": 41,
     "metadata": {},
     "output_type": "execute_result"
    }
   ],
   "source": [
    "rmse = np.sqrt(mse)\n",
    "rmse"
   ]
  },
  {
   "cell_type": "code",
   "execution_count": 42,
   "id": "d12f719b",
   "metadata": {},
   "outputs": [
    {
     "data": {
      "text/plain": [
       "20.53592582801839"
      ]
     },
     "execution_count": 42,
     "metadata": {},
     "output_type": "execute_result"
    }
   ],
   "source": [
    "mape = np.mean(np.abs(err_test * 100/ad_test_y))\n",
    "mape"
   ]
  },
  {
   "cell_type": "code",
   "execution_count": 43,
   "id": "33514b64",
   "metadata": {},
   "outputs": [],
   "source": [
    "# The Linear Regression model has been Builded on advertising data Successfully."
   ]
  },
  {
   "cell_type": "code",
   "execution_count": 44,
   "id": "8932f143",
   "metadata": {},
   "outputs": [],
   "source": [
    "# Lets check the Assumptions.\n",
    "# assumptions on the train data."
   ]
  },
  {
   "cell_type": "code",
   "execution_count": 45,
   "id": "efd35255",
   "metadata": {},
   "outputs": [
    {
     "data": {
      "text/plain": [
       "172   -0.207270\n",
       "92    -0.600602\n",
       "146   -0.158401\n",
       "80     0.217244\n",
       "157   -2.772123\n",
       "137   -1.742732\n",
       "176   -1.044151\n",
       "52     1.837895\n",
       "48     1.169986\n",
       "128    3.019912\n",
       "38     0.294636\n",
       "96     1.044388\n",
       "153   -2.110353\n",
       "115    0.158613\n",
       "16     0.177688\n",
       "42    -2.690883\n",
       "11    -1.340163\n",
       "118    0.477411\n",
       "6      0.592741\n",
       "187   -0.685496\n",
       "173    2.230490\n",
       "44    -0.241292\n",
       "83     0.547734\n",
       "81    -0.753462\n",
       "23     1.735638\n",
       "86     0.349163\n",
       "91     0.941698\n",
       "64    -0.249707\n",
       "78    -2.761002\n",
       "168   -1.728954\n",
       "104   -0.399575\n",
       "149    0.328366\n",
       "8     -0.485133\n",
       "26    -0.434199\n",
       "144    0.874336\n",
       "110    0.636330\n",
       "94    -0.397836\n",
       "14    -0.179685\n",
       "131   -1.610111\n",
       "119   -0.772932\n",
       "111    0.089632\n",
       "177    2.020388\n",
       "135   -0.582750\n",
       "181    0.176966\n",
       "22    -1.474768\n",
       "155   -2.852804\n",
       "49     0.188653\n",
       "75    -1.578123\n",
       "124   -0.838082\n",
       "20    -1.416525\n",
       "88     0.711951\n",
       "138   -0.090141\n",
       "142    0.016421\n",
       "188   -0.626909\n",
       "35    -2.954897\n",
       "55     3.035478\n",
       "59    -0.713711\n",
       "62     1.487014\n",
       "147    2.410869\n",
       "194    0.844834\n",
       "103    3.101754\n",
       "68    -1.448530\n",
       "156    0.949273\n",
       "93     0.065396\n",
       "134    0.020674\n",
       "143   -0.511328\n",
       "122   -0.383118\n",
       "126   -2.612252\n",
       "12    -0.502465\n",
       "0      0.957676\n",
       "67    -0.273376\n",
       "1     -0.828300\n",
       "197   -0.355360\n",
       "106    0.039295\n",
       "179    2.967381\n",
       "184   -3.013481\n",
       "167    0.844290\n",
       "97     3.655678\n",
       "70    -0.354020\n",
       "72    -0.761936\n",
       "45    -0.389532\n",
       "140    0.519521\n",
       "120    0.357727\n",
       "107    2.445511\n",
       "24     0.374421\n",
       "54    -1.661557\n",
       "192   -0.114196\n",
       "46     0.048361\n",
       "53     1.756395\n",
       "17     0.318562\n",
       "148   -0.024850\n",
       "150   -5.198369\n",
       "171    1.724562\n",
       "51    -0.342436\n",
       "61     0.879551\n",
       "112    1.378013\n",
       "185    2.129898\n",
       "76     0.611974\n",
       "77     0.058029\n",
       "174   -0.497850\n",
       "166   -1.570464\n",
       "169   -1.091424\n",
       "116   -1.473634\n",
       "21    -0.506009\n",
       "28    -2.043093\n",
       "198    1.028275\n",
       "125   -0.000033\n",
       "183    1.396819\n",
       "193    1.549365\n",
       "56    -2.529330\n",
       "132   -2.225465\n",
       "5     -3.158778\n",
       "105   -2.049498\n",
       "32     3.139539\n",
       "82     0.434460\n",
       "25    -2.208286\n",
       "3     -0.745329\n",
       "27     1.524772\n",
       "69     1.305631\n",
       "90     1.611656\n",
       "108   -0.091664\n",
       "129    0.540553\n",
       "31    -0.702089\n",
       "18     0.767701\n",
       "7      0.018129\n",
       "39     0.546391\n",
       "109   -1.448421\n",
       "161    0.207226\n",
       "10     3.776518\n",
       "63     0.713982\n",
       "50     0.617818\n",
       "127    2.952756\n",
       "9     -0.106113\n",
       "98     0.593022\n",
       "43     1.188967\n",
       "15     2.116403\n",
       "123    0.276809\n",
       "41    -0.655193\n",
       "159   -0.816697\n",
       "158   -1.902539\n",
       "29     0.327887\n",
       "60     0.363411\n",
       "195    0.524056\n",
       "170   -0.155473\n",
       "152   -1.159871\n",
       "163    0.669946\n",
       "19    -0.513336\n",
       "121   -0.990974\n",
       "145   -2.095442\n",
       "190   -0.279748\n",
       "89     1.034567\n",
       "182    0.412541\n",
       "2      1.508404\n",
       "133   -0.489929\n",
       "66     2.100382\n",
       "30    -2.088352\n",
       "162    3.166354\n",
       "74    -1.749054\n",
       "99     0.815263\n",
       "117    0.563948\n",
       "Name: Sales, dtype: float64"
      ]
     },
     "execution_count": 45,
     "metadata": {},
     "output_type": "execute_result"
    }
   ],
   "source": [
    "err_train = ad_train_y - pred_train\n",
    "err_train"
   ]
  },
  {
   "cell_type": "code",
   "execution_count": 46,
   "id": "f98705f7",
   "metadata": {},
   "outputs": [
    {
     "data": {
      "text/plain": [
       "-3.885780586188048e-16"
      ]
     },
     "execution_count": 46,
     "metadata": {},
     "output_type": "execute_result"
    }
   ],
   "source": [
    "np.mean(err_train)"
   ]
  },
  {
   "cell_type": "code",
   "execution_count": 47,
   "id": "bba433c5",
   "metadata": {},
   "outputs": [],
   "source": [
    "# assumption - Error should be normally distributed"
   ]
  },
  {
   "cell_type": "code",
   "execution_count": 48,
   "id": "166a61ec",
   "metadata": {},
   "outputs": [],
   "source": [
    "import matplotlib.pyplot as plt"
   ]
  },
  {
   "cell_type": "code",
   "execution_count": 49,
   "id": "afac8a08",
   "metadata": {},
   "outputs": [
    {
     "data": {
      "text/plain": [
       "[<matplotlib.lines.Line2D at 0x1f8d6572110>]"
      ]
     },
     "execution_count": 49,
     "metadata": {},
     "output_type": "execute_result"
    },
    {
     "data": {
      "image/png": "[encoded data removed]",
      "text/plain": [
       "<Figure size 640x480 with 1 Axes>"
      ]
     },
     "metadata": {},
     "output_type": "display_data"
    }
   ],
   "source": [
    "plt.plot(err_train, '*') # (*) = Marker"
   ]
  },
  {
   "cell_type": "code",
   "execution_count": 62,
   "id": "9061730c",
   "metadata": {},
   "outputs": [
    {
     "data": {
      "text/plain": [
       "(array([ 1.,  0.,  0.,  0.,  3.,  6.,  5.,  8.,  9., 11., 23., 23., 25.,\n",
       "        16.,  8.,  6.,  6.,  1.,  7.,  2.]),\n",
       " array([-5.19836879, -4.74962443, -4.30088007, -3.85213571, -3.40339134,\n",
       "        -2.95464698, -2.50590262, -2.05715826, -1.6084139 , -1.15966954,\n",
       "        -0.71092518, -0.26218082,  0.18656355,  0.63530791,  1.08405227,\n",
       "         1.53279663,  1.98154099,  2.43028535,  2.87902971,  3.32777408,\n",
       "         3.77651844]),\n",
       " <BarContainer object of 20 artists>)"
      ]
     },
     "execution_count": 62,
     "metadata": {},
     "output_type": "execute_result"
    },
    {
     "data": {
      "image/png": "[encoded data removed]",
      "text/plain": [
       "<Figure size 640x480 with 1 Axes>"
      ]
     },
     "metadata": {},
     "output_type": "display_data"
    }
   ],
   "source": [
    "plt.hist(err_train, bins=20, edgecolor='r')"
   ]
  },
  {
   "cell_type": "code",
   "execution_count": 63,
   "id": "7b8e90cb",
   "metadata": {},
   "outputs": [],
   "source": [
    "pred_actual_df = pd.DataFrame()"
   ]
  },
  {
   "cell_type": "code",
   "execution_count": 64,
   "id": "22b7eebf",
   "metadata": {},
   "outputs": [],
   "source": [
    "pred_actual_df['Actual'] = ad_train_y\n",
    "pred_actual_df['Predicted'] = pred_train"
   ]
  },
  {
   "cell_type": "code",
   "execution_count": 65,
   "id": "a4840ca1",
   "metadata": {},
   "outputs": [
    {
     "data": {
      "text/html": [
       "<div>\n",
       "<style scoped>\n",
       "    .dataframe tbody tr th:only-of-type {\n",
       "        vertical-align: middle;\n",
       "    }\n",
       "\n",
       "    .dataframe tbody tr th {\n",
       "        vertical-align: top;\n",
       "    }\n",
       "\n",
       "    .dataframe thead th {\n",
       "        text-align: right;\n",
       "    }\n",
       "</style>\n",
       "<table border=\"1\" class=\"dataframe\">\n",
       "  <thead>\n",
       "    <tr style=\"text-align: right;\">\n",
       "      <th></th>\n",
       "      <th>Actual</th>\n",
       "      <th>Predicted</th>\n",
       "    </tr>\n",
       "  </thead>\n",
       "  <tbody>\n",
       "    <tr>\n",
       "      <th>172</th>\n",
       "      <td>7.6</td>\n",
       "      <td>7.807270</td>\n",
       "    </tr>\n",
       "    <tr>\n",
       "      <th>92</th>\n",
       "      <td>19.4</td>\n",
       "      <td>20.000602</td>\n",
       "    </tr>\n",
       "    <tr>\n",
       "      <th>146</th>\n",
       "      <td>18.2</td>\n",
       "      <td>18.358401</td>\n",
       "    </tr>\n",
       "    <tr>\n",
       "      <th>80</th>\n",
       "      <td>11.8</td>\n",
       "      <td>11.582756</td>\n",
       "    </tr>\n",
       "    <tr>\n",
       "      <th>157</th>\n",
       "      <td>10.1</td>\n",
       "      <td>12.872123</td>\n",
       "    </tr>\n",
       "    <tr>\n",
       "      <th>137</th>\n",
       "      <td>20.8</td>\n",
       "      <td>22.542732</td>\n",
       "    </tr>\n",
       "    <tr>\n",
       "      <th>176</th>\n",
       "      <td>20.2</td>\n",
       "      <td>21.244151</td>\n",
       "    </tr>\n",
       "    <tr>\n",
       "      <th>52</th>\n",
       "      <td>22.6</td>\n",
       "      <td>20.762105</td>\n",
       "    </tr>\n",
       "    <tr>\n",
       "      <th>48</th>\n",
       "      <td>19.8</td>\n",
       "      <td>18.630014</td>\n",
       "    </tr>\n",
       "    <tr>\n",
       "      <th>128</th>\n",
       "      <td>24.7</td>\n",
       "      <td>21.680088</td>\n",
       "    </tr>\n",
       "    <tr>\n",
       "      <th>38</th>\n",
       "      <td>10.1</td>\n",
       "      <td>9.805364</td>\n",
       "    </tr>\n",
       "    <tr>\n",
       "      <th>96</th>\n",
       "      <td>16.7</td>\n",
       "      <td>15.655612</td>\n",
       "    </tr>\n",
       "    <tr>\n",
       "      <th>153</th>\n",
       "      <td>16.0</td>\n",
       "      <td>18.110353</td>\n",
       "    </tr>\n",
       "    <tr>\n",
       "      <th>115</th>\n",
       "      <td>12.6</td>\n",
       "      <td>12.441387</td>\n",
       "    </tr>\n",
       "    <tr>\n",
       "      <th>16</th>\n",
       "      <td>12.5</td>\n",
       "      <td>12.322312</td>\n",
       "    </tr>\n",
       "    <tr>\n",
       "      <th>42</th>\n",
       "      <td>20.7</td>\n",
       "      <td>23.390883</td>\n",
       "    </tr>\n",
       "    <tr>\n",
       "      <th>11</th>\n",
       "      <td>17.4</td>\n",
       "      <td>18.740163</td>\n",
       "    </tr>\n",
       "    <tr>\n",
       "      <th>118</th>\n",
       "      <td>15.9</td>\n",
       "      <td>15.422589</td>\n",
       "    </tr>\n",
       "    <tr>\n",
       "      <th>6</th>\n",
       "      <td>11.8</td>\n",
       "      <td>11.207259</td>\n",
       "    </tr>\n",
       "    <tr>\n",
       "      <th>187</th>\n",
       "      <td>17.3</td>\n",
       "      <td>17.985496</td>\n",
       "    </tr>\n",
       "    <tr>\n",
       "      <th>173</th>\n",
       "      <td>16.7</td>\n",
       "      <td>14.469510</td>\n",
       "    </tr>\n",
       "    <tr>\n",
       "      <th>44</th>\n",
       "      <td>8.5</td>\n",
       "      <td>8.741292</td>\n",
       "    </tr>\n",
       "    <tr>\n",
       "      <th>83</th>\n",
       "      <td>13.6</td>\n",
       "      <td>13.052266</td>\n",
       "    </tr>\n",
       "    <tr>\n",
       "      <th>81</th>\n",
       "      <td>17.3</td>\n",
       "      <td>18.053462</td>\n",
       "    </tr>\n",
       "    <tr>\n",
       "      <th>23</th>\n",
       "      <td>20.5</td>\n",
       "      <td>18.764362</td>\n",
       "    </tr>\n",
       "    <tr>\n",
       "      <th>86</th>\n",
       "      <td>12.0</td>\n",
       "      <td>11.650837</td>\n",
       "    </tr>\n",
       "    <tr>\n",
       "      <th>91</th>\n",
       "      <td>7.3</td>\n",
       "      <td>6.358302</td>\n",
       "    </tr>\n",
       "    <tr>\n",
       "      <th>64</th>\n",
       "      <td>16.0</td>\n",
       "      <td>16.249707</td>\n",
       "    </tr>\n",
       "    <tr>\n",
       "      <th>78</th>\n",
       "      <td>5.3</td>\n",
       "      <td>8.061002</td>\n",
       "    </tr>\n",
       "    <tr>\n",
       "      <th>168</th>\n",
       "      <td>17.1</td>\n",
       "      <td>18.828954</td>\n",
       "    </tr>\n",
       "    <tr>\n",
       "      <th>104</th>\n",
       "      <td>20.7</td>\n",
       "      <td>21.099575</td>\n",
       "    </tr>\n",
       "    <tr>\n",
       "      <th>149</th>\n",
       "      <td>10.1</td>\n",
       "      <td>9.771634</td>\n",
       "    </tr>\n",
       "    <tr>\n",
       "      <th>8</th>\n",
       "      <td>4.8</td>\n",
       "      <td>5.285133</td>\n",
       "    </tr>\n",
       "    <tr>\n",
       "      <th>26</th>\n",
       "      <td>15.0</td>\n",
       "      <td>15.434199</td>\n",
       "    </tr>\n",
       "    <tr>\n",
       "      <th>144</th>\n",
       "      <td>12.3</td>\n",
       "      <td>11.425664</td>\n",
       "    </tr>\n",
       "    <tr>\n",
       "      <th>110</th>\n",
       "      <td>18.4</td>\n",
       "      <td>17.763670</td>\n",
       "    </tr>\n",
       "    <tr>\n",
       "      <th>94</th>\n",
       "      <td>11.5</td>\n",
       "      <td>11.897836</td>\n",
       "    </tr>\n",
       "    <tr>\n",
       "      <th>14</th>\n",
       "      <td>19.0</td>\n",
       "      <td>19.179685</td>\n",
       "    </tr>\n",
       "    <tr>\n",
       "      <th>131</th>\n",
       "      <td>17.7</td>\n",
       "      <td>19.310111</td>\n",
       "    </tr>\n",
       "    <tr>\n",
       "      <th>119</th>\n",
       "      <td>6.6</td>\n",
       "      <td>7.372932</td>\n",
       "    </tr>\n",
       "    <tr>\n",
       "      <th>111</th>\n",
       "      <td>21.8</td>\n",
       "      <td>21.710368</td>\n",
       "    </tr>\n",
       "    <tr>\n",
       "      <th>177</th>\n",
       "      <td>16.7</td>\n",
       "      <td>14.679612</td>\n",
       "    </tr>\n",
       "    <tr>\n",
       "      <th>135</th>\n",
       "      <td>11.6</td>\n",
       "      <td>12.182750</td>\n",
       "    </tr>\n",
       "    <tr>\n",
       "      <th>181</th>\n",
       "      <td>17.2</td>\n",
       "      <td>17.023034</td>\n",
       "    </tr>\n",
       "    <tr>\n",
       "      <th>22</th>\n",
       "      <td>5.6</td>\n",
       "      <td>7.074768</td>\n",
       "    </tr>\n",
       "    <tr>\n",
       "      <th>155</th>\n",
       "      <td>3.2</td>\n",
       "      <td>6.052804</td>\n",
       "    </tr>\n",
       "    <tr>\n",
       "      <th>49</th>\n",
       "      <td>9.7</td>\n",
       "      <td>9.511347</td>\n",
       "    </tr>\n",
       "    <tr>\n",
       "      <th>75</th>\n",
       "      <td>8.7</td>\n",
       "      <td>10.278123</td>\n",
       "    </tr>\n",
       "    <tr>\n",
       "      <th>124</th>\n",
       "      <td>19.7</td>\n",
       "      <td>20.538082</td>\n",
       "    </tr>\n",
       "    <tr>\n",
       "      <th>20</th>\n",
       "      <td>18.0</td>\n",
       "      <td>19.416525</td>\n",
       "    </tr>\n",
       "    <tr>\n",
       "      <th>88</th>\n",
       "      <td>12.9</td>\n",
       "      <td>12.188049</td>\n",
       "    </tr>\n",
       "    <tr>\n",
       "      <th>138</th>\n",
       "      <td>9.6</td>\n",
       "      <td>9.690141</td>\n",
       "    </tr>\n",
       "    <tr>\n",
       "      <th>142</th>\n",
       "      <td>20.1</td>\n",
       "      <td>20.083579</td>\n",
       "    </tr>\n",
       "    <tr>\n",
       "      <th>188</th>\n",
       "      <td>20.9</td>\n",
       "      <td>21.526909</td>\n",
       "    </tr>\n",
       "    <tr>\n",
       "      <th>35</th>\n",
       "      <td>17.8</td>\n",
       "      <td>20.754897</td>\n",
       "    </tr>\n",
       "    <tr>\n",
       "      <th>55</th>\n",
       "      <td>23.7</td>\n",
       "      <td>20.664522</td>\n",
       "    </tr>\n",
       "    <tr>\n",
       "      <th>59</th>\n",
       "      <td>18.4</td>\n",
       "      <td>19.113711</td>\n",
       "    </tr>\n",
       "    <tr>\n",
       "      <th>62</th>\n",
       "      <td>20.7</td>\n",
       "      <td>19.212986</td>\n",
       "    </tr>\n",
       "    <tr>\n",
       "      <th>147</th>\n",
       "      <td>25.4</td>\n",
       "      <td>22.989131</td>\n",
       "    </tr>\n",
       "    <tr>\n",
       "      <th>194</th>\n",
       "      <td>17.3</td>\n",
       "      <td>16.455166</td>\n",
       "    </tr>\n",
       "    <tr>\n",
       "      <th>103</th>\n",
       "      <td>19.7</td>\n",
       "      <td>16.598246</td>\n",
       "    </tr>\n",
       "    <tr>\n",
       "      <th>68</th>\n",
       "      <td>18.9</td>\n",
       "      <td>20.348530</td>\n",
       "    </tr>\n",
       "    <tr>\n",
       "      <th>156</th>\n",
       "      <td>15.3</td>\n",
       "      <td>14.350727</td>\n",
       "    </tr>\n",
       "    <tr>\n",
       "      <th>93</th>\n",
       "      <td>22.2</td>\n",
       "      <td>22.134604</td>\n",
       "    </tr>\n",
       "    <tr>\n",
       "      <th>134</th>\n",
       "      <td>10.8</td>\n",
       "      <td>10.779326</td>\n",
       "    </tr>\n",
       "    <tr>\n",
       "      <th>143</th>\n",
       "      <td>10.4</td>\n",
       "      <td>10.911328</td>\n",
       "    </tr>\n",
       "    <tr>\n",
       "      <th>122</th>\n",
       "      <td>16.6</td>\n",
       "      <td>16.983118</td>\n",
       "    </tr>\n",
       "    <tr>\n",
       "      <th>126</th>\n",
       "      <td>6.6</td>\n",
       "      <td>9.212252</td>\n",
       "    </tr>\n",
       "    <tr>\n",
       "      <th>12</th>\n",
       "      <td>9.2</td>\n",
       "      <td>9.702465</td>\n",
       "    </tr>\n",
       "    <tr>\n",
       "      <th>0</th>\n",
       "      <td>22.1</td>\n",
       "      <td>21.142324</td>\n",
       "    </tr>\n",
       "    <tr>\n",
       "      <th>67</th>\n",
       "      <td>13.4</td>\n",
       "      <td>13.673376</td>\n",
       "    </tr>\n",
       "    <tr>\n",
       "      <th>1</th>\n",
       "      <td>10.4</td>\n",
       "      <td>11.228300</td>\n",
       "    </tr>\n",
       "    <tr>\n",
       "      <th>197</th>\n",
       "      <td>14.8</td>\n",
       "      <td>15.155360</td>\n",
       "    </tr>\n",
       "    <tr>\n",
       "      <th>106</th>\n",
       "      <td>7.2</td>\n",
       "      <td>7.160705</td>\n",
       "    </tr>\n",
       "    <tr>\n",
       "      <th>179</th>\n",
       "      <td>17.6</td>\n",
       "      <td>14.632619</td>\n",
       "    </tr>\n",
       "    <tr>\n",
       "      <th>184</th>\n",
       "      <td>17.6</td>\n",
       "      <td>20.613481</td>\n",
       "    </tr>\n",
       "    <tr>\n",
       "      <th>167</th>\n",
       "      <td>17.2</td>\n",
       "      <td>16.355710</td>\n",
       "    </tr>\n",
       "    <tr>\n",
       "      <th>97</th>\n",
       "      <td>20.5</td>\n",
       "      <td>16.844322</td>\n",
       "    </tr>\n",
       "    <tr>\n",
       "      <th>70</th>\n",
       "      <td>18.3</td>\n",
       "      <td>18.654020</td>\n",
       "    </tr>\n",
       "    <tr>\n",
       "      <th>72</th>\n",
       "      <td>8.8</td>\n",
       "      <td>9.561936</td>\n",
       "    </tr>\n",
       "    <tr>\n",
       "      <th>45</th>\n",
       "      <td>16.1</td>\n",
       "      <td>16.489532</td>\n",
       "    </tr>\n",
       "    <tr>\n",
       "      <th>140</th>\n",
       "      <td>10.9</td>\n",
       "      <td>10.380479</td>\n",
       "    </tr>\n",
       "    <tr>\n",
       "      <th>120</th>\n",
       "      <td>15.5</td>\n",
       "      <td>15.142273</td>\n",
       "    </tr>\n",
       "    <tr>\n",
       "      <th>107</th>\n",
       "      <td>12.0</td>\n",
       "      <td>9.554489</td>\n",
       "    </tr>\n",
       "    <tr>\n",
       "      <th>24</th>\n",
       "      <td>9.7</td>\n",
       "      <td>9.325579</td>\n",
       "    </tr>\n",
       "    <tr>\n",
       "      <th>54</th>\n",
       "      <td>20.2</td>\n",
       "      <td>21.861557</td>\n",
       "    </tr>\n",
       "    <tr>\n",
       "      <th>192</th>\n",
       "      <td>5.9</td>\n",
       "      <td>6.014196</td>\n",
       "    </tr>\n",
       "    <tr>\n",
       "      <th>46</th>\n",
       "      <td>10.6</td>\n",
       "      <td>10.551639</td>\n",
       "    </tr>\n",
       "    <tr>\n",
       "      <th>53</th>\n",
       "      <td>21.2</td>\n",
       "      <td>19.443605</td>\n",
       "    </tr>\n",
       "    <tr>\n",
       "      <th>17</th>\n",
       "      <td>24.4</td>\n",
       "      <td>24.081438</td>\n",
       "    </tr>\n",
       "    <tr>\n",
       "      <th>148</th>\n",
       "      <td>10.9</td>\n",
       "      <td>10.924850</td>\n",
       "    </tr>\n",
       "    <tr>\n",
       "      <th>150</th>\n",
       "      <td>16.1</td>\n",
       "      <td>21.298369</td>\n",
       "    </tr>\n",
       "    <tr>\n",
       "      <th>171</th>\n",
       "      <td>17.5</td>\n",
       "      <td>15.775438</td>\n",
       "    </tr>\n",
       "    <tr>\n",
       "      <th>51</th>\n",
       "      <td>10.7</td>\n",
       "      <td>11.042436</td>\n",
       "    </tr>\n",
       "    <tr>\n",
       "      <th>61</th>\n",
       "      <td>24.2</td>\n",
       "      <td>23.320449</td>\n",
       "    </tr>\n",
       "    <tr>\n",
       "      <th>112</th>\n",
       "      <td>17.1</td>\n",
       "      <td>15.721987</td>\n",
       "    </tr>\n",
       "    <tr>\n",
       "      <th>185</th>\n",
       "      <td>22.6</td>\n",
       "      <td>20.470102</td>\n",
       "    </tr>\n",
       "    <tr>\n",
       "      <th>76</th>\n",
       "      <td>6.9</td>\n",
       "      <td>6.288026</td>\n",
       "    </tr>\n",
       "    <tr>\n",
       "      <th>77</th>\n",
       "      <td>14.2</td>\n",
       "      <td>14.141971</td>\n",
       "    </tr>\n",
       "    <tr>\n",
       "      <th>174</th>\n",
       "      <td>16.5</td>\n",
       "      <td>16.997850</td>\n",
       "    </tr>\n",
       "    <tr>\n",
       "      <th>166</th>\n",
       "      <td>8.0</td>\n",
       "      <td>9.570464</td>\n",
       "    </tr>\n",
       "    <tr>\n",
       "      <th>169</th>\n",
       "      <td>20.0</td>\n",
       "      <td>21.091424</td>\n",
       "    </tr>\n",
       "    <tr>\n",
       "      <th>116</th>\n",
       "      <td>12.2</td>\n",
       "      <td>13.673634</td>\n",
       "    </tr>\n",
       "    <tr>\n",
       "      <th>21</th>\n",
       "      <td>17.5</td>\n",
       "      <td>18.006009</td>\n",
       "    </tr>\n",
       "    <tr>\n",
       "      <th>28</th>\n",
       "      <td>18.9</td>\n",
       "      <td>20.943093</td>\n",
       "    </tr>\n",
       "    <tr>\n",
       "      <th>198</th>\n",
       "      <td>25.5</td>\n",
       "      <td>24.471725</td>\n",
       "    </tr>\n",
       "    <tr>\n",
       "      <th>125</th>\n",
       "      <td>10.6</td>\n",
       "      <td>10.600033</td>\n",
       "    </tr>\n",
       "    <tr>\n",
       "      <th>183</th>\n",
       "      <td>26.2</td>\n",
       "      <td>24.803181</td>\n",
       "    </tr>\n",
       "    <tr>\n",
       "      <th>193</th>\n",
       "      <td>19.6</td>\n",
       "      <td>18.050635</td>\n",
       "    </tr>\n",
       "    <tr>\n",
       "      <th>56</th>\n",
       "      <td>5.5</td>\n",
       "      <td>8.029330</td>\n",
       "    </tr>\n",
       "    <tr>\n",
       "      <th>132</th>\n",
       "      <td>5.7</td>\n",
       "      <td>7.925465</td>\n",
       "    </tr>\n",
       "    <tr>\n",
       "      <th>5</th>\n",
       "      <td>7.2</td>\n",
       "      <td>10.358778</td>\n",
       "    </tr>\n",
       "    <tr>\n",
       "      <th>105</th>\n",
       "      <td>15.0</td>\n",
       "      <td>17.049498</td>\n",
       "    </tr>\n",
       "    <tr>\n",
       "      <th>32</th>\n",
       "      <td>13.2</td>\n",
       "      <td>10.060461</td>\n",
       "    </tr>\n",
       "    <tr>\n",
       "      <th>82</th>\n",
       "      <td>11.3</td>\n",
       "      <td>10.865540</td>\n",
       "    </tr>\n",
       "    <tr>\n",
       "      <th>25</th>\n",
       "      <td>17.0</td>\n",
       "      <td>19.208286</td>\n",
       "    </tr>\n",
       "    <tr>\n",
       "      <th>3</th>\n",
       "      <td>16.5</td>\n",
       "      <td>17.245329</td>\n",
       "    </tr>\n",
       "    <tr>\n",
       "      <th>27</th>\n",
       "      <td>20.9</td>\n",
       "      <td>19.375228</td>\n",
       "    </tr>\n",
       "    <tr>\n",
       "      <th>69</th>\n",
       "      <td>22.3</td>\n",
       "      <td>20.994369</td>\n",
       "    </tr>\n",
       "    <tr>\n",
       "      <th>90</th>\n",
       "      <td>14.0</td>\n",
       "      <td>12.388344</td>\n",
       "    </tr>\n",
       "    <tr>\n",
       "      <th>108</th>\n",
       "      <td>5.3</td>\n",
       "      <td>5.391664</td>\n",
       "    </tr>\n",
       "    <tr>\n",
       "      <th>129</th>\n",
       "      <td>9.7</td>\n",
       "      <td>9.159447</td>\n",
       "    </tr>\n",
       "    <tr>\n",
       "      <th>31</th>\n",
       "      <td>11.9</td>\n",
       "      <td>12.602089</td>\n",
       "    </tr>\n",
       "    <tr>\n",
       "      <th>18</th>\n",
       "      <td>11.3</td>\n",
       "      <td>10.532299</td>\n",
       "    </tr>\n",
       "    <tr>\n",
       "      <th>7</th>\n",
       "      <td>13.2</td>\n",
       "      <td>13.181871</td>\n",
       "    </tr>\n",
       "    <tr>\n",
       "      <th>39</th>\n",
       "      <td>21.5</td>\n",
       "      <td>20.953609</td>\n",
       "    </tr>\n",
       "    <tr>\n",
       "      <th>109</th>\n",
       "      <td>19.8</td>\n",
       "      <td>21.248421</td>\n",
       "    </tr>\n",
       "    <tr>\n",
       "      <th>161</th>\n",
       "      <td>13.3</td>\n",
       "      <td>13.092774</td>\n",
       "    </tr>\n",
       "    <tr>\n",
       "      <th>10</th>\n",
       "      <td>12.6</td>\n",
       "      <td>8.823482</td>\n",
       "    </tr>\n",
       "    <tr>\n",
       "      <th>63</th>\n",
       "      <td>14.0</td>\n",
       "      <td>13.286018</td>\n",
       "    </tr>\n",
       "    <tr>\n",
       "      <th>50</th>\n",
       "      <td>16.4</td>\n",
       "      <td>15.782182</td>\n",
       "    </tr>\n",
       "    <tr>\n",
       "      <th>127</th>\n",
       "      <td>11.9</td>\n",
       "      <td>8.947244</td>\n",
       "    </tr>\n",
       "    <tr>\n",
       "      <th>9</th>\n",
       "      <td>15.6</td>\n",
       "      <td>15.706113</td>\n",
       "    </tr>\n",
       "    <tr>\n",
       "      <th>98</th>\n",
       "      <td>25.4</td>\n",
       "      <td>24.806978</td>\n",
       "    </tr>\n",
       "    <tr>\n",
       "      <th>43</th>\n",
       "      <td>17.9</td>\n",
       "      <td>16.711033</td>\n",
       "    </tr>\n",
       "    <tr>\n",
       "      <th>15</th>\n",
       "      <td>22.4</td>\n",
       "      <td>20.283597</td>\n",
       "    </tr>\n",
       "    <tr>\n",
       "      <th>123</th>\n",
       "      <td>15.2</td>\n",
       "      <td>14.923191</td>\n",
       "    </tr>\n",
       "    <tr>\n",
       "      <th>41</th>\n",
       "      <td>17.1</td>\n",
       "      <td>17.755193</td>\n",
       "    </tr>\n",
       "    <tr>\n",
       "      <th>159</th>\n",
       "      <td>12.9</td>\n",
       "      <td>13.716697</td>\n",
       "    </tr>\n",
       "    <tr>\n",
       "      <th>158</th>\n",
       "      <td>7.3</td>\n",
       "      <td>9.202539</td>\n",
       "    </tr>\n",
       "    <tr>\n",
       "      <th>29</th>\n",
       "      <td>10.5</td>\n",
       "      <td>10.172113</td>\n",
       "    </tr>\n",
       "    <tr>\n",
       "      <th>60</th>\n",
       "      <td>8.1</td>\n",
       "      <td>7.736589</td>\n",
       "    </tr>\n",
       "    <tr>\n",
       "      <th>195</th>\n",
       "      <td>7.6</td>\n",
       "      <td>7.075944</td>\n",
       "    </tr>\n",
       "    <tr>\n",
       "      <th>170</th>\n",
       "      <td>8.4</td>\n",
       "      <td>8.555473</td>\n",
       "    </tr>\n",
       "    <tr>\n",
       "      <th>152</th>\n",
       "      <td>16.6</td>\n",
       "      <td>17.759871</td>\n",
       "    </tr>\n",
       "    <tr>\n",
       "      <th>163</th>\n",
       "      <td>18.0</td>\n",
       "      <td>17.330054</td>\n",
       "    </tr>\n",
       "    <tr>\n",
       "      <th>19</th>\n",
       "      <td>14.6</td>\n",
       "      <td>15.113336</td>\n",
       "    </tr>\n",
       "    <tr>\n",
       "      <th>121</th>\n",
       "      <td>7.0</td>\n",
       "      <td>7.990974</td>\n",
       "    </tr>\n",
       "    <tr>\n",
       "      <th>145</th>\n",
       "      <td>10.3</td>\n",
       "      <td>12.395442</td>\n",
       "    </tr>\n",
       "    <tr>\n",
       "      <th>190</th>\n",
       "      <td>10.8</td>\n",
       "      <td>11.079748</td>\n",
       "    </tr>\n",
       "    <tr>\n",
       "      <th>89</th>\n",
       "      <td>16.7</td>\n",
       "      <td>15.665433</td>\n",
       "    </tr>\n",
       "    <tr>\n",
       "      <th>182</th>\n",
       "      <td>8.7</td>\n",
       "      <td>8.287459</td>\n",
       "    </tr>\n",
       "    <tr>\n",
       "      <th>2</th>\n",
       "      <td>12.0</td>\n",
       "      <td>10.491596</td>\n",
       "    </tr>\n",
       "    <tr>\n",
       "      <th>133</th>\n",
       "      <td>19.6</td>\n",
       "      <td>20.089929</td>\n",
       "    </tr>\n",
       "    <tr>\n",
       "      <th>66</th>\n",
       "      <td>11.0</td>\n",
       "      <td>8.899618</td>\n",
       "    </tr>\n",
       "    <tr>\n",
       "      <th>30</th>\n",
       "      <td>21.4</td>\n",
       "      <td>23.488352</td>\n",
       "    </tr>\n",
       "    <tr>\n",
       "      <th>162</th>\n",
       "      <td>19.9</td>\n",
       "      <td>16.733646</td>\n",
       "    </tr>\n",
       "    <tr>\n",
       "      <th>74</th>\n",
       "      <td>17.0</td>\n",
       "      <td>18.749054</td>\n",
       "    </tr>\n",
       "    <tr>\n",
       "      <th>99</th>\n",
       "      <td>17.2</td>\n",
       "      <td>16.384737</td>\n",
       "    </tr>\n",
       "    <tr>\n",
       "      <th>117</th>\n",
       "      <td>9.4</td>\n",
       "      <td>8.836052</td>\n",
       "    </tr>\n",
       "  </tbody>\n",
       "</table>\n",
       "</div>"
      ],
      "text/plain": [
       "     Actual  Predicted\n",
       "172     7.6   7.807270\n",
       "92     19.4  20.000602\n",
       "146    18.2  18.358401\n",
       "80     11.8  11.582756\n",
       "157    10.1  12.872123\n",
       "137    20.8  22.542732\n",
       "176    20.2  21.244151\n",
       "52     22.6  20.762105\n",
       "48     19.8  18.630014\n",
       "128    24.7  21.680088\n",
       "38     10.1   9.805364\n",
       "96     16.7  15.655612\n",
       "153    16.0  18.110353\n",
       "115    12.6  12.441387\n",
       "16     12.5  12.322312\n",
       "42     20.7  23.390883\n",
       "11     17.4  18.740163\n",
       "118    15.9  15.422589\n",
       "6      11.8  11.207259\n",
       "187    17.3  17.985496\n",
       "173    16.7  14.469510\n",
       "44      8.5   8.741292\n",
       "83     13.6  13.052266\n",
       "81     17.3  18.053462\n",
       "23     20.5  18.764362\n",
       "86     12.0  11.650837\n",
       "91      7.3   6.358302\n",
       "64     16.0  16.249707\n",
       "78      5.3   8.061002\n",
       "168    17.1  18.828954\n",
       "104    20.7  21.099575\n",
       "149    10.1   9.771634\n",
       "8       4.8   5.285133\n",
       "26     15.0  15.434199\n",
       "144    12.3  11.425664\n",
       "110    18.4  17.763670\n",
       "94     11.5  11.897836\n",
       "14     19.0  19.179685\n",
       "131    17.7  19.310111\n",
       "119     6.6   7.372932\n",
       "111    21.8  21.710368\n",
       "177    16.7  14.679612\n",
       "135    11.6  12.182750\n",
       "181    17.2  17.023034\n",
       "22      5.6   7.074768\n",
       "155     3.2   6.052804\n",
       "49      9.7   9.511347\n",
       "75      8.7  10.278123\n",
       "124    19.7  20.538082\n",
       "20     18.0  19.416525\n",
       "88     12.9  12.188049\n",
       "138     9.6   9.690141\n",
       "142    20.1  20.083579\n",
       "188    20.9  21.526909\n",
       "35     17.8  20.754897\n",
       "55     23.7  20.664522\n",
       "59     18.4  19.113711\n",
       "62     20.7  19.212986\n",
       "147    25.4  22.989131\n",
       "194    17.3  16.455166\n",
       "103    19.7  16.598246\n",
       "68     18.9  20.348530\n",
       "156    15.3  14.350727\n",
       "93     22.2  22.134604\n",
       "134    10.8  10.779326\n",
       "143    10.4  10.911328\n",
       "122    16.6  16.983118\n",
       "126     6.6   9.212252\n",
       "12      9.2   9.702465\n",
       "0      22.1  21.142324\n",
       "67     13.4  13.673376\n",
       "1      10.4  11.228300\n",
       "197    14.8  15.155360\n",
       "106     7.2   7.160705\n",
       "179    17.6  14.632619\n",
       "184    17.6  20.613481\n",
       "167    17.2  16.355710\n",
       "97     20.5  16.844322\n",
       "70     18.3  18.654020\n",
       "72      8.8   9.561936\n",
       "45     16.1  16.489532\n",
       "140    10.9  10.380479\n",
       "120    15.5  15.142273\n",
       "107    12.0   9.554489\n",
       "24      9.7   9.325579\n",
       "54     20.2  21.861557\n",
       "192     5.9   6.014196\n",
       "46     10.6  10.551639\n",
       "53     21.2  19.443605\n",
       "17     24.4  24.081438\n",
       "148    10.9  10.924850\n",
       "150    16.1  21.298369\n",
       "171    17.5  15.775438\n",
       "51     10.7  11.042436\n",
       "61     24.2  23.320449\n",
       "112    17.1  15.721987\n",
       "185    22.6  20.470102\n",
       "76      6.9   6.288026\n",
       "77     14.2  14.141971\n",
       "174    16.5  16.997850\n",
       "166     8.0   9.570464\n",
       "169    20.0  21.091424\n",
       "116    12.2  13.673634\n",
       "21     17.5  18.006009\n",
       "28     18.9  20.943093\n",
       "198    25.5  24.471725\n",
       "125    10.6  10.600033\n",
       "183    26.2  24.803181\n",
       "193    19.6  18.050635\n",
       "56      5.5   8.029330\n",
       "132     5.7   7.925465\n",
       "5       7.2  10.358778\n",
       "105    15.0  17.049498\n",
       "32     13.2  10.060461\n",
       "82     11.3  10.865540\n",
       "25     17.0  19.208286\n",
       "3      16.5  17.245329\n",
       "27     20.9  19.375228\n",
       "69     22.3  20.994369\n",
       "90     14.0  12.388344\n",
       "108     5.3   5.391664\n",
       "129     9.7   9.159447\n",
       "31     11.9  12.602089\n",
       "18     11.3  10.532299\n",
       "7      13.2  13.181871\n",
       "39     21.5  20.953609\n",
       "109    19.8  21.248421\n",
       "161    13.3  13.092774\n",
       "10     12.6   8.823482\n",
       "63     14.0  13.286018\n",
       "50     16.4  15.782182\n",
       "127    11.9   8.947244\n",
       "9      15.6  15.706113\n",
       "98     25.4  24.806978\n",
       "43     17.9  16.711033\n",
       "15     22.4  20.283597\n",
       "123    15.2  14.923191\n",
       "41     17.1  17.755193\n",
       "159    12.9  13.716697\n",
       "158     7.3   9.202539\n",
       "29     10.5  10.172113\n",
       "60      8.1   7.736589\n",
       "195     7.6   7.075944\n",
       "170     8.4   8.555473\n",
       "152    16.6  17.759871\n",
       "163    18.0  17.330054\n",
       "19     14.6  15.113336\n",
       "121     7.0   7.990974\n",
       "145    10.3  12.395442\n",
       "190    10.8  11.079748\n",
       "89     16.7  15.665433\n",
       "182     8.7   8.287459\n",
       "2      12.0  10.491596\n",
       "133    19.6  20.089929\n",
       "66     11.0   8.899618\n",
       "30     21.4  23.488352\n",
       "162    19.9  16.733646\n",
       "74     17.0  18.749054\n",
       "99     17.2  16.384737\n",
       "117     9.4   8.836052"
      ]
     },
     "execution_count": 65,
     "metadata": {},
     "output_type": "execute_result"
    }
   ],
   "source": [
    "pred_actual_df"
   ]
  },
  {
   "cell_type": "code",
   "execution_count": 66,
   "id": "910bc595",
   "metadata": {},
   "outputs": [
    {
     "data": {
      "text/plain": [
       "<seaborn.axisgrid.JointGrid at 0x1f8d869a050>"
      ]
     },
     "execution_count": 66,
     "metadata": {},
     "output_type": "execute_result"
    },
    {
     "data": {
      "image/png": "[encoded data removed]",
      "text/plain": [
       "<Figure size 600x600 with 3 Axes>"
      ]
     },
     "metadata": {},
     "output_type": "display_data"
    }
   ],
   "source": [
    "sns.jointplot(x ='Actual', y ='Predicted', data = pred_actual_df, kind='reg' )"
   ]
  },
  {
   "cell_type": "code",
   "execution_count": 67,
   "id": "a27f67c9",
   "metadata": {},
   "outputs": [],
   "source": [
    "def remove_Outliers(df,col,k):\n",
    "    mean=df[col].mean()\n",
    "    global df1\n",
    "    sd=df[col].std()\n",
    "    final_list = [x for x in df[col] if (x > mean - k * sd)]\n",
    "    final_list = [x for x in final_list if (x < mean - k * sd)]\n",
    "    df1=df.loc[df[col].isin(final_list)]; print(df1.shape)\n",
    "    print('Number of Outliers removed--->',df.shape[0]-df1.shape[0])"
   ]
  },
  {
   "cell_type": "code",
   "execution_count": 68,
   "id": "b367df96",
   "metadata": {},
   "outputs": [
    {
     "name": "stdout",
     "output_type": "stream",
     "text": [
      "(0, 4)\n",
      "Number of Outliers removed---> 200\n"
     ]
    }
   ],
   "source": [
    "remove_Outliers(ad, 'Sales',2)"
   ]
  },
  {
   "cell_type": "markdown",
   "id": "d5788ae9",
   "metadata": {},
   "source": [
    "# Results :"
   ]
  },
  {
   "cell_type": "markdown",
   "id": "06e12a67",
   "metadata": {},
   "source": [
    "Rsquare = 91.92\n",
    "\n",
    "Adj_Rsquare = 93.66\n",
    "\n",
    "mse = 4.62\n",
    "\n",
    "rmse = 2.15\n",
    "\n",
    "mape = 20.53\n",
    "\n",
    "- Mean Squared Error (MSE): Measures how close the model's predictions are to the actual sales values. Lower MSE values \n",
    "  indicate better prediction accuracy.\n",
    "\n",
    "- Coefficients: Show the impact of each feature on sales prediction. Positive coefficients suggest a positive relationship \n",
    "  with sales, while negative coefficients suggest a negative relationship.\n",
    "  [linereg.coef_  : array([0.05404336, 0.10554693, 0.00173843])]\n",
    "\n",
    "- Intercept: Represents the expected sales value when all predictor variables are zero. It sets the baseline for sales prediction.\n",
    "  [linereg.intercept_ 4.5969]\n"
   ]
  },
  {
   "cell_type": "markdown",
   "id": "ae642de7",
   "metadata": {},
   "source": [
    "# Conclusion :"
   ]
  },
  {
   "cell_type": "markdown",
   "id": "e8ad97b6",
   "metadata": {},
   "source": [
    "linear regression model helps understand how factors like advertising expenditure affect sales. By using this model,\n",
    "businesses can optimize advertising strategies to increase revenue. Continuous monitoring and refinement are \n",
    "crucial for maintaining accuracy in a changing business landscape."
   ]
  },
  {
   "cell_type": "code",
   "execution_count": null,
   "id": "dda5f973",
   "metadata": {},
   "outputs": [],
   "source": []
  }
 ],
 "metadata": {
  "kernelspec": {
   "display_name": "Python 3 (ipykernel)",
   "language": "python",
   "name": "python3"
  },
  "language_info": {
   "codemirror_mode": {
    "name": "ipython",
    "version": 3
   },
   "file_extension": ".py",
   "mimetype": "text/x-python",
   "name": "python",
   "nbconvert_exporter": "python",
   "pygments_lexer": "ipython3",
   "version": "3.11.5"
  }
 },
 "nbformat": 4,
 "nbformat_minor": 5
}
